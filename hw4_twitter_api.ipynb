{
 "cells": [
  {
   "cell_type": "markdown",
   "metadata": {
    "pycharm": {
     "name": "#%% md\n"
    }
   },
   "source": [
    "# Total points 8"
   ]
  },
  {
   "cell_type": "markdown",
   "metadata": {
    "pycharm": {
     "name": "#%% md\n"
    }
   },
   "source": [
    "# In  the homework\n",
    "- We'll collect climate change related tweet from twitter using REST API\n",
    "- Use tweets to populate Pandas DataFrames\n",
    "- Perform some elementary pandas operation to check data sanity\n",
    "\n",
    "\n",
    "**Please read**\n",
    "\n",
    "- https://developer.twitter.com/en/developer-terms/more-on-restricted-use-cases\n"
   ]
  },
  {
   "cell_type": "markdown",
   "metadata": {
    "pycharm": {
     "name": "#%% md\n"
    }
   },
   "source": [
    "Before proceeding with homework.\n",
    "\n",
    "<font size=\"6\" color='red'> Create new app at https://apps.twitter.com/app/new  (You may have to create twitter account before this) </font>\n",
    "\n",
    "\n",
    "\n"
   ]
  },
  {
   "cell_type": "markdown",
   "metadata": {
    "pycharm": {
     "name": "#%% md\n"
    }
   },
   "source": [
    "[twitter api reference index](https://developer.twitter.com/en/docs/api-reference-index)\n",
    "\n",
    "\n",
    "# POST oauth2/token\n",
    "Allows a registered application to obtain an OAuth 2 Bearer Token, which can be used to make API requests on an application's own behalf, without a user context.\n",
    "https://developer.twitter.com/en/docs/basics/authentication/api-reference/token\n"
   ]
  },
  {
   "cell_type": "markdown",
   "metadata": {
    "pycharm": {
     "name": "#%% md\n"
    }
   },
   "source": [
    "Once you have create app, click on app details and keys and token tab\n",
    "\n",
    "<font size=\"6\" color='red'> write API key value for client_key and API secret key value for client_secret in the next cell</font>"
   ]
  },
  {
   "cell_type": "code",
   "execution_count": 220,
   "metadata": {
    "pycharm": {
     "name": "#%%\n"
    }
   },
   "outputs": [],
   "source": [
    "client_key = 'redacted_for_public_repo'\n",
    "client_secret =  'redacted_for_public_repo'"
   ]
  },
  {
   "cell_type": "code",
   "execution_count": 221,
   "metadata": {
    "pycharm": {
     "name": "#%%\n"
    }
   },
   "outputs": [],
   "source": [
    "import requests\n",
    "import base64\n",
    "\n",
    "key_secret = '{}:{}'.format(client_key, client_secret).encode('ascii')\n",
    "b64_encoded_key = base64.b64encode(key_secret)\n",
    "b64_encoded_key = b64_encoded_key.decode('ascii')"
   ]
  },
  {
   "cell_type": "code",
   "execution_count": 222,
   "metadata": {
    "pycharm": {
     "name": "#%%\n"
    }
   },
   "outputs": [],
   "source": [
    "base_url = 'https://api.twitter.com/'\n",
    "auth_endpoint = base_url+'oauth2/token'\n",
    "\n",
    "auth_headers = { 'Authorization': 'Basic {}'.format(b64_encoded_key),\n",
    "                'Content-Type': 'application/x-www-form-urlencoded;charset=UTF-8'}\n",
    "\n",
    "auth_data = { 'grant_type': 'client_credentials'}\n",
    "\n"
   ]
  },
  {
   "cell_type": "markdown",
   "metadata": {
    "pycharm": {
     "name": "#%% md\n"
    }
   },
   "source": [
    "Let's post to authentication endpoint and get the token to be used in subsequent REST API call"
   ]
  },
  {
   "cell_type": "code",
   "execution_count": 223,
   "metadata": {
    "pycharm": {
     "name": "#%%\n"
    }
   },
   "outputs": [
    {
     "data": {
      "text/plain": "200"
     },
     "execution_count": 223,
     "metadata": {},
     "output_type": "execute_result"
    }
   ],
   "source": [
    "response = requests.post(auth_endpoint, headers=auth_headers, data=auth_data)\n",
    "response.status_code"
   ]
  },
  {
   "cell_type": "code",
   "execution_count": 224,
   "metadata": {
    "pycharm": {
     "name": "#%%\n"
    }
   },
   "outputs": [
    {
     "data": {
      "text/plain": "{'token_type': 'bearer',\n 'access_token': 'AAAAAAAAAAAAAAAAAAAAAH%2FwewEAAAAA%2FouhakpNM9lpEF6ZF2JLmaWNIHk%3DSFLBCLbJn41P4JHmbct1QrrZQ1cls41BeTVA9bNpnc4GnkSmUk'}"
     },
     "execution_count": 224,
     "metadata": {},
     "output_type": "execute_result"
    }
   ],
   "source": [
    "json_data =  response.json()\n",
    "json_data"
   ]
  },
  {
   "cell_type": "code",
   "execution_count": 225,
   "metadata": {
    "pycharm": {
     "name": "#%%\n"
    }
   },
   "outputs": [],
   "source": [
    "access_token = json_data['access_token']"
   ]
  },
  {
   "cell_type": "markdown",
   "metadata": {
    "pycharm": {
     "name": "#%% md\n"
    }
   },
   "source": [
    "# Let's do some search on climate change\n",
    "This is how we got search endpoint\n",
    "\n",
    "https://developer.twitter.com/en/docs/tweets/search/api-reference/get-search-tweets"
   ]
  },
  {
   "cell_type": "code",
   "execution_count": 226,
   "metadata": {
    "pycharm": {
     "name": "#%%\n"
    }
   },
   "outputs": [],
   "source": [
    "max_tweets=100\n",
    "tw_limit=100# we can get only 100 tweet per call with standard search api\n",
    "tweets = []\n",
    "users =[]"
   ]
  },
  {
   "cell_type": "code",
   "execution_count": 227,
   "metadata": {
    "pycharm": {
     "name": "#%%\n"
    }
   },
   "outputs": [],
   "source": [
    "search_headers = {'Authorization': 'Bearer {}'.format(access_token)    \n",
    "}\n",
    "\n",
    "parameters = { 'query': 'climate change',\n",
    "                'max_results': 100,\n",
    "                'expansions' :'author_id,referenced_tweets.id',\n",
    "                'tweet.fields' : 'created_at,entities,source,in_reply_to_user_id,geo,lang,public_metrics,reply_settings,referenced_tweets,conversation_id',\n",
    "                'user.fields': 'created_at,description,entities,id,location,name,pinned_tweet_id,profile_image_url,protected,public_metrics,url,username,verified,withheld'}\n",
    "\n",
    "search_url = base_url+'2/tweets/search/recent'\n",
    "\n",
    "response = requests.get(search_url, headers=search_headers, params=parameters)"
   ]
  },
  {
   "cell_type": "code",
   "execution_count": 228,
   "metadata": {
    "pycharm": {
     "name": "#%%\n"
    },
    "scrolled": true
   },
   "outputs": [],
   "source": [
    "climate_tweets = response.json()\n"
   ]
  },
  {
   "cell_type": "code",
   "execution_count": 229,
   "metadata": {
    "pycharm": {
     "name": "#%%\n"
    }
   },
   "outputs": [
    {
     "data": {
      "text/plain": "100"
     },
     "execution_count": 229,
     "metadata": {},
     "output_type": "execute_result"
    }
   ],
   "source": [
    "len(climate_tweets['data'])"
   ]
  },
  {
   "cell_type": "code",
   "execution_count": 230,
   "metadata": {
    "pycharm": {
     "name": "#%%\n"
    }
   },
   "outputs": [],
   "source": [
    "tweets +=climate_tweets['data']\n"
   ]
  },
  {
   "cell_type": "code",
   "execution_count": 231,
   "metadata": {
    "pycharm": {
     "name": "#%%\n"
    }
   },
   "outputs": [],
   "source": [
    "\n",
    "ids = [tw['id'] for tw in climate_tweets['data']]\n",
    "    "
   ]
  },
  {
   "cell_type": "code",
   "execution_count": 232,
   "metadata": {
    "pycharm": {
     "name": "#%%\n"
    }
   },
   "outputs": [],
   "source": [
    "min_id = min(ids)"
   ]
  },
  {
   "cell_type": "code",
   "execution_count": 233,
   "metadata": {
    "pycharm": {
     "name": "#%%\n"
    }
   },
   "outputs": [],
   "source": [
    "tw_ids = []\n",
    "tw_ids+=ids"
   ]
  },
  {
   "cell_type": "markdown",
   "metadata": {
    "pycharm": {
     "name": "#%% md\n"
    }
   },
   "source": [
    "As per twitter api documentation we can use\n",
    "\n",
    "until_id:Returns results with an ID less than (that is, older than) or equal to the specified ID.\n",
    "\n",
    "to get older tweets"
   ]
  },
  {
   "cell_type": "markdown",
   "metadata": {
    "pycharm": {
     "name": "#%% md\n"
    }
   },
   "source": [
    "# Q1 (.5 points) Modify only *parameters* dictionary in the following code so that subsequent call to climate change search returns older tweets with id less than minimum of previous tweets ids."
   ]
  },
  {
   "cell_type": "code",
   "execution_count": 234,
   "metadata": {
    "pycharm": {
     "name": "#%%\n"
    }
   },
   "outputs": [],
   "source": [
    "parameters = { 'query': 'climate change',\n",
    "                'max_results': tw_limit,\n",
    "                'expansions' :'author_id,referenced_tweets.id',\n",
    "                'tweet.fields' : 'created_at,entities,source,in_reply_to_user_id,geo,lang,public_metrics,reply_settings,referenced_tweets,conversation_id',\n",
    "                'user.fields': 'created_at,description,entities,id,location,name,pinned_tweet_id,profile_image_url,protected,public_metrics,url,username,verified,withheld'\n",
    "}\n",
    "\n",
    "for  i in range(max_tweets//tw_limit -1):\n",
    "    print(\"searching tweets with id  < {}\".format(min_id))\n",
    "    search_url = base_url+'2/tweets/search/recent'\n",
    "    response = requests.get(search_url, headers=search_headers, params=parameters)\n",
    "    climate_tweets = response.json()\n",
    "    ids = [tw['id'] for tw in climate_tweets['data']]\n",
    "    tw_ids+=ids\n",
    "    print(i, len(climate_tweets['data']))\n",
    "    min_id = min(ids)\n",
    "    tweets +=climate_tweets['data']\n",
    "    users.extend(climate_tweets['includes']['users'])\n",
    "    parameters['until_id'] = min_id - 1\n",
    "    if 'next_token' in response.json()['meta']:\n",
    "\t\t\t\t\tparameters['next_token'] = response.json()['meta']['next_token']"
   ]
  },
  {
   "cell_type": "code",
   "execution_count": 235,
   "metadata": {
    "pycharm": {
     "name": "#%%\n"
    }
   },
   "outputs": [
    {
     "name": "stdout",
     "output_type": "stream",
     "text": [
      "Total tweets retrieved= 100\n"
     ]
    }
   ],
   "source": [
    "print('Total tweets retrieved= {}'.format(len(tweets)))"
   ]
  },
  {
   "cell_type": "markdown",
   "metadata": {
    "pycharm": {
     "name": "#%% md\n"
    }
   },
   "source": [
    "# Let's print some tweets"
   ]
  },
  {
   "cell_type": "code",
   "execution_count": 236,
   "metadata": {
    "pycharm": {
     "name": "#%%\n"
    }
   },
   "outputs": [],
   "source": [
    "import pprint #pretty-print” arbitrary Python data structures. Tweets object has hierarchical struture\n",
    "max_tweet_to_print=4"
   ]
  },
  {
   "cell_type": "code",
   "execution_count": 237,
   "metadata": {
    "pycharm": {
     "name": "#%%\n"
    }
   },
   "outputs": [
    {
     "name": "stdout",
     "output_type": "stream",
     "text": [
      "[{'author_id': '1181952375399092225',\n",
      "  'conversation_id': '1549572208539959301',\n",
      "  'created_at': '2022-07-20T01:49:38.000Z',\n",
      "  'entities': {'annotations': [{'end': 52,\n",
      "                                'normalized_text': '117th Congress',\n",
      "                                'probability': 0.4121,\n",
      "                                'start': 39,\n",
      "                                'type': 'Organization'}],\n",
      "               'urls': [{'display_url': 'twitter.com/MirandaRSuarez…',\n",
      "                         'end': 298,\n",
      "                         'expanded_url': 'https://twitter.com/MirandaRSuarez/status/1549507048177532930',\n",
      "                         'start': 275,\n",
      "                         'url': 'https://t.co/7kLdKfjeZc'}]},\n",
      "  'id': '1549572208539959301',\n",
      "  'lang': 'en',\n",
      "  'public_metrics': {'like_count': 0,\n",
      "                     'quote_count': 0,\n",
      "                     'reply_count': 0,\n",
      "                     'retweet_count': 0},\n",
      "  'referenced_tweets': [{'id': '1549507048177532930', 'type': 'quoted'}],\n",
      "  'reply_settings': 'everyone',\n",
      "  'source': 'Twitter Web App',\n",
      "  'text': 'There are 139 elected officials in the 117th Congress, who refuse '\n",
      "          'to acknowledge the scientific evidence of human-caused climate '\n",
      "          'change. \\n'\n",
      "          '\\n'\n",
      "          \"That's not the worst of it, even though they are a minority they \"\n",
      "          'obstruct all efforts to pass legislation to help mitigate the '\n",
      "          'problem. https://t.co/7kLdKfjeZc'},\n",
      " {'author_id': '1345215509705478146',\n",
      "  'conversation_id': '1549572206233096194',\n",
      "  'created_at': '2022-07-20T01:49:38.000Z',\n",
      "  'entities': {'mentions': [{'end': 19,\n",
      "                             'id': '412548718',\n",
      "                             'start': 3,\n",
      "                             'username': 'Kit_Yates_Maths'}]},\n",
      "  'id': '1549572206233096194',\n",
      "  'lang': 'en',\n",
      "  'public_metrics': {'like_count': 0,\n",
      "                     'quote_count': 0,\n",
      "                     'reply_count': 0,\n",
      "                     'retweet_count': 760},\n",
      "  'referenced_tweets': [{'id': '1549442694560337920', 'type': 'retweeted'}],\n",
      "  'reply_settings': 'everyone',\n",
      "  'source': 'Twitter for Android',\n",
      "  'text': 'RT @Kit_Yates_Maths: But did thy die of climate change or just with '\n",
      "          'climate change?'},\n",
      " {'author_id': '809985698',\n",
      "  'conversation_id': '1549572200868593664',\n",
      "  'created_at': '2022-07-20T01:49:37.000Z',\n",
      "  'entities': {'mentions': [{'end': 14,\n",
      "                             'id': '20254815',\n",
      "                             'start': 3,\n",
      "                             'username': 'bananafitz'}]},\n",
      "  'id': '1549572200868593664',\n",
      "  'lang': 'en',\n",
      "  'public_metrics': {'like_count': 0,\n",
      "                     'quote_count': 0,\n",
      "                     'reply_count': 0,\n",
      "                     'retweet_count': 2334},\n",
      "  'referenced_tweets': [{'id': '1549391709410365443', 'type': 'retweeted'}],\n",
      "  'reply_settings': 'everyone',\n",
      "  'source': 'Twitter for Android',\n",
      "  'text': 'RT @bananafitz: International news is like, “more mass death due to '\n",
      "          'global warming and climate change” and local news is like, “bike '\n",
      "          'lanes:…'},\n",
      " {'author_id': '55847265',\n",
      "  'conversation_id': '1549572200864264193',\n",
      "  'created_at': '2022-07-20T01:49:37.000Z',\n",
      "  'entities': {'annotations': [{'end': 16,\n",
      "                                'normalized_text': 'Europe',\n",
      "                                'probability': 0.9984,\n",
      "                                'start': 11,\n",
      "                                'type': 'Place'},\n",
      "                               {'end': 117,\n",
      "                                'normalized_text': 'U.N.',\n",
      "                                'probability': 0.5685,\n",
      "                                'start': 114,\n",
      "                                'type': 'Organization'},\n",
      "                               {'end': 248,\n",
      "                                'normalized_text': 'Saudi',\n",
      "                                'probability': 0.888,\n",
      "                                'start': 244,\n",
      "                                'type': 'Place'}]},\n",
      "  'id': '1549572200864264193',\n",
      "  'lang': 'en',\n",
      "  'public_metrics': {'like_count': 0,\n",
      "                     'quote_count': 0,\n",
      "                     'reply_count': 0,\n",
      "                     'retweet_count': 0},\n",
      "  'reply_settings': 'everyone',\n",
      "  'source': 'Twitter Web App',\n",
      "  'text': 'Its hot in Europe and the fake news is trying to spin it into  that '\n",
      "          'it is due to climate change. 20 years ago the U.N. predicted a '\n",
      "          '\"DISASTER if global warming not checked\" I heard AOC say we have 12 '\n",
      "          \"years left. But buying fossil fuels from the Saudi's is still \"\n",
      "          'okay?'}]\n"
     ]
    }
   ],
   "source": [
    "pprint.pprint(tweets[0:max_tweet_to_print])"
   ]
  },
  {
   "cell_type": "markdown",
   "metadata": {
    "pycharm": {
     "name": "#%% md\n"
    }
   },
   "source": [
    "Link to understand [tweet-object](https://developer.twitter.com/en/docs/tweets/data-dictionary/overview/tweet-object)\n",
    "\n",
    "Let'see some tweets"
   ]
  },
  {
   "cell_type": "code",
   "execution_count": 238,
   "metadata": {
    "pycharm": {
     "name": "#%%\n"
    }
   },
   "outputs": [
    {
     "name": "stdout",
     "output_type": "stream",
     "text": [
      "There are 139 elected officials in the 117th Congress, who refuse to acknowledge the scientific evidence of human-caused climate change. \n",
      "\n",
      "That's not the worst of it, even though they are a minority they obstruct all efforts to pass legislation to help mitigate the problem. https://t.co/7kLdKfjeZc\n",
      "\n",
      "RT @Kit_Yates_Maths: But did thy die of climate change or just with climate change?\n",
      "\n",
      "RT @bananafitz: International news is like, “more mass death due to global warming and climate change” and local news is like, “bike lanes:…\n",
      "\n",
      "Its hot in Europe and the fake news is trying to spin it into  that it is due to climate change. 20 years ago the U.N. predicted a \"DISASTER if global warming not checked\" I heard AOC say we have 12 years left. But buying fossil fuels from the Saudi's is still okay?\n",
      "\n"
     ]
    }
   ],
   "source": [
    "for status in tweets[0:max_tweet_to_print]:\n",
    "    print(status['text'] + '\\n')"
   ]
  },
  {
   "cell_type": "markdown",
   "metadata": {
    "pycharm": {
     "name": "#%% md\n"
    }
   },
   "source": [
    "# Pandas DataFrame for storing tweet feed\n",
    "\n",
    "Create following date frame for storing tweets\n",
    "\n",
    "- **climate_feed_df** DataFrame for storing tweet\n",
    "- **user_df** DataFrame for storing user detail\n",
    "- **retweeted_status_df** for storing original tweet"
   ]
  },
  {
   "cell_type": "markdown",
   "metadata": {
    "pycharm": {
     "name": "#%% md\n"
    }
   },
   "source": [
    "# Printing keys in tweets"
   ]
  },
  {
   "cell_type": "code",
   "execution_count": 239,
   "metadata": {
    "pycharm": {
     "name": "#%%\n"
    }
   },
   "outputs": [
    {
     "name": "stdout",
     "output_type": "stream",
     "text": [
      "dict_keys(['entities', 'source', 'referenced_tweets', 'id', 'text', 'created_at', 'reply_settings', 'lang', 'public_metrics', 'conversation_id', 'author_id'])\n",
      "11\n"
     ]
    }
   ],
   "source": [
    "print(tweets[1].keys())\n",
    "print(len(tweets[1].keys()))\n"
   ]
  },
  {
   "cell_type": "code",
   "execution_count": 240,
   "metadata": {
    "pycharm": {
     "name": "#%%\n"
    }
   },
   "outputs": [],
   "source": [
    "import pandas as pd\n",
    "import copy"
   ]
  },
  {
   "cell_type": "markdown",
   "metadata": {
    "pycharm": {
     "name": "#%% md\n"
    }
   },
   "source": [
    "# Generators for building DataFrames"
   ]
  },
  {
   "cell_type": "markdown",
   "metadata": {
    "pycharm": {
     "name": "#%% md\n"
    }
   },
   "source": [
    "# Q2 (2 point) Complete following   python generator *tweet_generator*. Generator yield modified tweet .\n",
    "For each tweet in tweets\n",
    "- Replace **author_id** attribute with **user_id**.\n",
    "- Replace **referenced_tweets** attribute with **referenced_tweets_ids** and value(s) with **tweet['referenced_tweets']['id']** value(s).\n",
    "- Keep other attributes in the tweet as such."
   ]
  },
  {
   "cell_type": "code",
   "execution_count": 240,
   "metadata": {
    "pycharm": {
     "name": "#%%\n"
    }
   },
   "outputs": [],
   "source": []
  },
  {
   "cell_type": "code",
   "execution_count": 241,
   "metadata": {
    "pycharm": {
     "name": "#%%\n"
    }
   },
   "outputs": [],
   "source": [
    "def tweet_generator(tweets):\n",
    "    for tweet in tweets:\n",
    "        try:\n",
    "            modified_tweet = copy.deepcopy(tweet)\n",
    "            modified_tweet['user_id'] = modified_tweet.pop('author_id')\n",
    "            modified_tweet['referenced_tweets_ids'] = [ d['id'] for d in modified_tweet['referenced_tweets'] if 'id' in d]\n",
    "            modified_tweet.pop('referenced_tweets')\n",
    "            modified_tweet['retweet_count'] = modified_tweet['public_metrics']['retweet_count']\n",
    "            yield modified_tweet     \n",
    "        except KeyError as e:\n",
    "            continue"
   ]
  },
  {
   "cell_type": "code",
   "execution_count": 242,
   "metadata": {
    "pycharm": {
     "name": "#%%\n"
    }
   },
   "outputs": [
    {
     "data": {
      "text/plain": "[{'source': 'Twitter Web App',\n  'entities': {'annotations': [{'start': 39,\n     'end': 52,\n     'probability': 0.4121,\n     'type': 'Organization',\n     'normalized_text': '117th Congress'}],\n   'urls': [{'start': 275,\n     'end': 298,\n     'url': 'https://t.co/7kLdKfjeZc',\n     'expanded_url': 'https://twitter.com/MirandaRSuarez/status/1549507048177532930',\n     'display_url': 'twitter.com/MirandaRSuarez…'}]},\n  'id': '1549572208539959301',\n  'text': \"There are 139 elected officials in the 117th Congress, who refuse to acknowledge the scientific evidence of human-caused climate change. \\n\\nThat's not the worst of it, even though they are a minority they obstruct all efforts to pass legislation to help mitigate the problem. https://t.co/7kLdKfjeZc\",\n  'created_at': '2022-07-20T01:49:38.000Z',\n  'reply_settings': 'everyone',\n  'lang': 'en',\n  'public_metrics': {'retweet_count': 0,\n   'reply_count': 0,\n   'like_count': 0,\n   'quote_count': 0},\n  'conversation_id': '1549572208539959301',\n  'user_id': '1181952375399092225',\n  'referenced_tweets_ids': ['1549507048177532930'],\n  'retweet_count': 0},\n {'entities': {'mentions': [{'start': 3,\n     'end': 19,\n     'username': 'Kit_Yates_Maths',\n     'id': '412548718'}]},\n  'source': 'Twitter for Android',\n  'id': '1549572206233096194',\n  'text': 'RT @Kit_Yates_Maths: But did thy die of climate change or just with climate change?',\n  'created_at': '2022-07-20T01:49:38.000Z',\n  'reply_settings': 'everyone',\n  'lang': 'en',\n  'public_metrics': {'retweet_count': 760,\n   'reply_count': 0,\n   'like_count': 0,\n   'quote_count': 0},\n  'conversation_id': '1549572206233096194',\n  'user_id': '1345215509705478146',\n  'referenced_tweets_ids': ['1549442694560337920'],\n  'retweet_count': 760}]"
     },
     "execution_count": 242,
     "metadata": {},
     "output_type": "execute_result"
    }
   ],
   "source": [
    "# Checking  generator output\n",
    "list(tweet_generator(tweets[0:2]))"
   ]
  },
  {
   "cell_type": "code",
   "execution_count": 243,
   "metadata": {
    "pycharm": {
     "name": "#%%\n"
    }
   },
   "outputs": [],
   "source": [
    "climate_feed_df = pd.DataFrame(tweet_generator(tweets))"
   ]
  },
  {
   "cell_type": "code",
   "execution_count": 244,
   "metadata": {
    "pycharm": {
     "name": "#%%\n"
    }
   },
   "outputs": [
    {
     "data": {
      "text/plain": "                 source                                           entities  \\\n0       Twitter Web App  {'annotations': [{'start': 39, 'end': 52, 'pro...   \n1   Twitter for Android  {'mentions': [{'start': 3, 'end': 19, 'usernam...   \n2   Twitter for Android  {'mentions': [{'start': 3, 'end': 14, 'usernam...   \n3       Twitter Web App  {'mentions': [{'start': 0, 'end': 16, 'usernam...   \n4       Twitter Web App  {'mentions': [{'start': 3, 'end': 17, 'usernam...   \n..                  ...                                                ...   \n82  Twitter for Android  {'mentions': [{'start': 3, 'end': 14, 'usernam...   \n83   Twitter for iPhone  {'mentions': [{'start': 3, 'end': 12, 'usernam...   \n84  Twitter for Android  {'mentions': [{'start': 3, 'end': 15, 'usernam...   \n85   Twitter for iPhone  {'mentions': [{'start': 3, 'end': 16, 'usernam...   \n86   Twitter for iPhone  {'mentions': [{'start': 3, 'end': 18, 'usernam...   \n\n                     id                                               text  \\\n0   1549572208539959301  There are 139 elected officials in the 117th C...   \n1   1549572206233096194  RT @Kit_Yates_Maths: But did thy die of climat...   \n2   1549572200868593664  RT @bananafitz: International news is like, “m...   \n3   1549572198783787009  @Justsay43328336 @PointlessSword @realRussellD...   \n4   1549572197005631496  RT @lavern_spicer: If CLIMATE CHANGE is real, ...   \n..                  ...                                                ...   \n82  1549571960744837120  RT @cpsavesoil: Burj Khalifa Lights Up In #Sav...   \n83  1549571951504625669  RT @thetimes: Prince Harry's keynote speech at...   \n84  1549571950674051078  RT @ClaireRWong: Guys, I think I’ve solved it....   \n85  1549571946727489536  RT @BronwynHill1: Any former member of the gov...   \n86  1549571943661129728  RT @MattH_4America: \"Climate Change\" is a hoax...   \n\n                  created_at reply_settings lang  \\\n0   2022-07-20T01:49:38.000Z       everyone   en   \n1   2022-07-20T01:49:38.000Z       everyone   en   \n2   2022-07-20T01:49:37.000Z       everyone   en   \n3   2022-07-20T01:49:36.000Z       everyone   en   \n4   2022-07-20T01:49:36.000Z       everyone   en   \n..                       ...            ...  ...   \n82  2022-07-20T01:48:39.000Z       everyone   en   \n83  2022-07-20T01:48:37.000Z       everyone   en   \n84  2022-07-20T01:48:37.000Z       everyone   en   \n85  2022-07-20T01:48:36.000Z       everyone   en   \n86  2022-07-20T01:48:35.000Z       everyone   en   \n\n                                       public_metrics      conversation_id  \\\n0   {'retweet_count': 0, 'reply_count': 0, 'like_c...  1549572208539959301   \n1   {'retweet_count': 760, 'reply_count': 0, 'like...  1549572206233096194   \n2   {'retweet_count': 2334, 'reply_count': 0, 'lik...  1549572200868593664   \n3   {'retweet_count': 0, 'reply_count': 0, 'like_c...  1549507568032178176   \n4   {'retweet_count': 426, 'reply_count': 0, 'like...  1549572197005631496   \n..                                                ...                  ...   \n82  {'retweet_count': 306, 'reply_count': 0, 'like...  1549571960744837120   \n83  {'retweet_count': 788, 'reply_count': 0, 'like...  1549571951504625669   \n84  {'retweet_count': 12253, 'reply_count': 0, 'li...  1549571950674051078   \n85  {'retweet_count': 30, 'reply_count': 0, 'like_...  1549571946727489536   \n86  {'retweet_count': 148, 'reply_count': 0, 'like...  1549571943661129728   \n\n                user_id  referenced_tweets_ids  retweet_count  \\\n0   1181952375399092225  [1549507048177532930]              0   \n1   1345215509705478146  [1549442694560337920]            760   \n2             809985698  [1549391709410365443]           2334   \n3   1500283381036191746  [1549562609262895109]              0   \n4   1522344926100471811  [1549531680465162244]            426   \n..                  ...                    ...            ...   \n82           2788001185  [1549283706388750337]            306   \n83   903564476779298816  [1549284378852958208]            788   \n84   870413586035855360  [1548767909039816709]          12253   \n85           2411313362  [1549561676865089536]             30   \n86  1250997211384541184  [1549544142048468998]            148   \n\n    in_reply_to_user_id  \n0                   NaN  \n1                   NaN  \n2                   NaN  \n3   1319039866462752770  \n4                   NaN  \n..                  ...  \n82                  NaN  \n83                  NaN  \n84                  NaN  \n85                  NaN  \n86                  NaN  \n\n[87 rows x 13 columns]",
      "text/html": "<div>\n<style scoped>\n    .dataframe tbody tr th:only-of-type {\n        vertical-align: middle;\n    }\n\n    .dataframe tbody tr th {\n        vertical-align: top;\n    }\n\n    .dataframe thead th {\n        text-align: right;\n    }\n</style>\n<table border=\"1\" class=\"dataframe\">\n  <thead>\n    <tr style=\"text-align: right;\">\n      <th></th>\n      <th>source</th>\n      <th>entities</th>\n      <th>id</th>\n      <th>text</th>\n      <th>created_at</th>\n      <th>reply_settings</th>\n      <th>lang</th>\n      <th>public_metrics</th>\n      <th>conversation_id</th>\n      <th>user_id</th>\n      <th>referenced_tweets_ids</th>\n      <th>retweet_count</th>\n      <th>in_reply_to_user_id</th>\n    </tr>\n  </thead>\n  <tbody>\n    <tr>\n      <th>0</th>\n      <td>Twitter Web App</td>\n      <td>{'annotations': [{'start': 39, 'end': 52, 'pro...</td>\n      <td>1549572208539959301</td>\n      <td>There are 139 elected officials in the 117th C...</td>\n      <td>2022-07-20T01:49:38.000Z</td>\n      <td>everyone</td>\n      <td>en</td>\n      <td>{'retweet_count': 0, 'reply_count': 0, 'like_c...</td>\n      <td>1549572208539959301</td>\n      <td>1181952375399092225</td>\n      <td>[1549507048177532930]</td>\n      <td>0</td>\n      <td>NaN</td>\n    </tr>\n    <tr>\n      <th>1</th>\n      <td>Twitter for Android</td>\n      <td>{'mentions': [{'start': 3, 'end': 19, 'usernam...</td>\n      <td>1549572206233096194</td>\n      <td>RT @Kit_Yates_Maths: But did thy die of climat...</td>\n      <td>2022-07-20T01:49:38.000Z</td>\n      <td>everyone</td>\n      <td>en</td>\n      <td>{'retweet_count': 760, 'reply_count': 0, 'like...</td>\n      <td>1549572206233096194</td>\n      <td>1345215509705478146</td>\n      <td>[1549442694560337920]</td>\n      <td>760</td>\n      <td>NaN</td>\n    </tr>\n    <tr>\n      <th>2</th>\n      <td>Twitter for Android</td>\n      <td>{'mentions': [{'start': 3, 'end': 14, 'usernam...</td>\n      <td>1549572200868593664</td>\n      <td>RT @bananafitz: International news is like, “m...</td>\n      <td>2022-07-20T01:49:37.000Z</td>\n      <td>everyone</td>\n      <td>en</td>\n      <td>{'retweet_count': 2334, 'reply_count': 0, 'lik...</td>\n      <td>1549572200868593664</td>\n      <td>809985698</td>\n      <td>[1549391709410365443]</td>\n      <td>2334</td>\n      <td>NaN</td>\n    </tr>\n    <tr>\n      <th>3</th>\n      <td>Twitter Web App</td>\n      <td>{'mentions': [{'start': 0, 'end': 16, 'usernam...</td>\n      <td>1549572198783787009</td>\n      <td>@Justsay43328336 @PointlessSword @realRussellD...</td>\n      <td>2022-07-20T01:49:36.000Z</td>\n      <td>everyone</td>\n      <td>en</td>\n      <td>{'retweet_count': 0, 'reply_count': 0, 'like_c...</td>\n      <td>1549507568032178176</td>\n      <td>1500283381036191746</td>\n      <td>[1549562609262895109]</td>\n      <td>0</td>\n      <td>1319039866462752770</td>\n    </tr>\n    <tr>\n      <th>4</th>\n      <td>Twitter Web App</td>\n      <td>{'mentions': [{'start': 3, 'end': 17, 'usernam...</td>\n      <td>1549572197005631496</td>\n      <td>RT @lavern_spicer: If CLIMATE CHANGE is real, ...</td>\n      <td>2022-07-20T01:49:36.000Z</td>\n      <td>everyone</td>\n      <td>en</td>\n      <td>{'retweet_count': 426, 'reply_count': 0, 'like...</td>\n      <td>1549572197005631496</td>\n      <td>1522344926100471811</td>\n      <td>[1549531680465162244]</td>\n      <td>426</td>\n      <td>NaN</td>\n    </tr>\n    <tr>\n      <th>...</th>\n      <td>...</td>\n      <td>...</td>\n      <td>...</td>\n      <td>...</td>\n      <td>...</td>\n      <td>...</td>\n      <td>...</td>\n      <td>...</td>\n      <td>...</td>\n      <td>...</td>\n      <td>...</td>\n      <td>...</td>\n      <td>...</td>\n    </tr>\n    <tr>\n      <th>82</th>\n      <td>Twitter for Android</td>\n      <td>{'mentions': [{'start': 3, 'end': 14, 'usernam...</td>\n      <td>1549571960744837120</td>\n      <td>RT @cpsavesoil: Burj Khalifa Lights Up In #Sav...</td>\n      <td>2022-07-20T01:48:39.000Z</td>\n      <td>everyone</td>\n      <td>en</td>\n      <td>{'retweet_count': 306, 'reply_count': 0, 'like...</td>\n      <td>1549571960744837120</td>\n      <td>2788001185</td>\n      <td>[1549283706388750337]</td>\n      <td>306</td>\n      <td>NaN</td>\n    </tr>\n    <tr>\n      <th>83</th>\n      <td>Twitter for iPhone</td>\n      <td>{'mentions': [{'start': 3, 'end': 12, 'usernam...</td>\n      <td>1549571951504625669</td>\n      <td>RT @thetimes: Prince Harry's keynote speech at...</td>\n      <td>2022-07-20T01:48:37.000Z</td>\n      <td>everyone</td>\n      <td>en</td>\n      <td>{'retweet_count': 788, 'reply_count': 0, 'like...</td>\n      <td>1549571951504625669</td>\n      <td>903564476779298816</td>\n      <td>[1549284378852958208]</td>\n      <td>788</td>\n      <td>NaN</td>\n    </tr>\n    <tr>\n      <th>84</th>\n      <td>Twitter for Android</td>\n      <td>{'mentions': [{'start': 3, 'end': 15, 'usernam...</td>\n      <td>1549571950674051078</td>\n      <td>RT @ClaireRWong: Guys, I think I’ve solved it....</td>\n      <td>2022-07-20T01:48:37.000Z</td>\n      <td>everyone</td>\n      <td>en</td>\n      <td>{'retweet_count': 12253, 'reply_count': 0, 'li...</td>\n      <td>1549571950674051078</td>\n      <td>870413586035855360</td>\n      <td>[1548767909039816709]</td>\n      <td>12253</td>\n      <td>NaN</td>\n    </tr>\n    <tr>\n      <th>85</th>\n      <td>Twitter for iPhone</td>\n      <td>{'mentions': [{'start': 3, 'end': 16, 'usernam...</td>\n      <td>1549571946727489536</td>\n      <td>RT @BronwynHill1: Any former member of the gov...</td>\n      <td>2022-07-20T01:48:36.000Z</td>\n      <td>everyone</td>\n      <td>en</td>\n      <td>{'retweet_count': 30, 'reply_count': 0, 'like_...</td>\n      <td>1549571946727489536</td>\n      <td>2411313362</td>\n      <td>[1549561676865089536]</td>\n      <td>30</td>\n      <td>NaN</td>\n    </tr>\n    <tr>\n      <th>86</th>\n      <td>Twitter for iPhone</td>\n      <td>{'mentions': [{'start': 3, 'end': 18, 'usernam...</td>\n      <td>1549571943661129728</td>\n      <td>RT @MattH_4America: \"Climate Change\" is a hoax...</td>\n      <td>2022-07-20T01:48:35.000Z</td>\n      <td>everyone</td>\n      <td>en</td>\n      <td>{'retweet_count': 148, 'reply_count': 0, 'like...</td>\n      <td>1549571943661129728</td>\n      <td>1250997211384541184</td>\n      <td>[1549544142048468998]</td>\n      <td>148</td>\n      <td>NaN</td>\n    </tr>\n  </tbody>\n</table>\n<p>87 rows × 13 columns</p>\n</div>"
     },
     "execution_count": 244,
     "metadata": {},
     "output_type": "execute_result"
    }
   ],
   "source": [
    "climate_feed_df"
   ]
  },
  {
   "cell_type": "markdown",
   "metadata": {
    "pycharm": {
     "name": "#%% md\n"
    }
   },
   "source": [
    "# Q3(1 points) List datatype using climate_feed_df. Describe which attributes doesn't have correct data types. What should be correct datatype?"
   ]
  },
  {
   "cell_type": "code",
   "execution_count": 245,
   "metadata": {
    "pycharm": {
     "name": "#%%\n"
    }
   },
   "outputs": [
    {
     "data": {
      "text/plain": "source                   object\nentities                 object\nid                       object\ntext                     object\ncreated_at               object\nreply_settings           object\nlang                     object\npublic_metrics           object\nconversation_id          object\nuser_id                  object\nreferenced_tweets_ids    object\nretweet_count             int64\nin_reply_to_user_id      object\ndtype: object"
     },
     "execution_count": 245,
     "metadata": {},
     "output_type": "execute_result"
    }
   ],
   "source": [
    "# write code here datatype listing\n",
    "climate_feed_df.dtypes\n"
   ]
  },
  {
   "cell_type": "markdown",
   "metadata": {
    "pycharm": {
     "name": "#%% md\n"
    }
   },
   "source": [
    "# Write columns with wrong datatype and mention correct data type too.\n",
    "\n",
    "source should be string\n",
    "entities should be dict\n",
    "text should be string\n",
    "public_metrics should be dict\n",
    "id should be int64\n",
    "conversation_id should be int64\n",
    "reply_settings should be string\n",
    "lang should be string\n",
    "created_at should be datetime\n",
    "user_id should be int64\n",
    "referenced_tweets_ids should be int64 (or perhaps list if it's a list of ids)\n",
    "in_reply_to_user_id should be int64"
   ]
  },
  {
   "cell_type": "markdown",
   "metadata": {
    "pycharm": {
     "name": "#%% md\n"
    }
   },
   "source": [
    "# Q4 (1.5 point) Complete following tweet_user_generator. Generator should yield only *user* value from a tweet\n",
    "\n",
    "- As per the twitter API the user information is in the 'users' object within the 'includes' object of the response."
   ]
  },
  {
   "cell_type": "code",
   "execution_count": 246,
   "metadata": {
    "pycharm": {
     "name": "#%%\n"
    }
   },
   "outputs": [],
   "source": [
    "def tweet_user_generator(tweets):\n",
    "    for user in climate_tweets['includes']['users']:\n",
    "        try:\n",
    "            modified_user = copy.deepcopy(user)\n",
    "            yield modified_user\n",
    "        except KeyError as e:\n",
    "            continue\n"
   ]
  },
  {
   "cell_type": "code",
   "execution_count": 247,
   "metadata": {
    "pycharm": {
     "name": "#%%\n"
    }
   },
   "outputs": [],
   "source": [
    "user_df = pd.DataFrame(tweet_user_generator(climate_tweets))"
   ]
  },
  {
   "cell_type": "code",
   "execution_count": 248,
   "metadata": {
    "pycharm": {
     "name": "#%%\n"
    }
   },
   "outputs": [
    {
     "data": {
      "text/plain": "              location         username  \\\n0           Texas, USA       chilberg11   \n1                  NaN       Skiingmom2   \n2   the depths of hell    GenericName76   \n3                  NaN       decidealgo   \n4                  NaN        brushb0t2   \n..                 ...              ...   \n89                 NaN   gopalmarella97   \n90                 NaN      RachelPopp7   \n91              Canada   Fred_Langlois_   \n92      Port Macquarie      lorraindeer   \n93                 NaN  CrunchyDoughnu1   \n\n                                    profile_image_url  protected  \\\n0   https://pbs.twimg.com/profile_images/149796300...      False   \n1   https://pbs.twimg.com/profile_images/154118563...      False   \n2   https://pbs.twimg.com/profile_images/152262270...      False   \n3   https://pbs.twimg.com/profile_images/129322420...      False   \n4   https://pbs.twimg.com/profile_images/150031978...      False   \n..                                                ...        ...   \n89  https://pbs.twimg.com/profile_images/154346816...      False   \n90  https://pbs.twimg.com/profile_images/119047451...      False   \n91  https://pbs.twimg.com/profile_images/126567206...      False   \n92  https://pbs.twimg.com/profile_images/561026440...      False   \n93  https://pbs.twimg.com/profile_images/147730825...      False   \n\n                  created_at                    name                      url  \\\n0   2019-10-09T15:20:59.000Z            Carl Hilberg                            \n1   2021-01-02T03:49:18.000Z    Skiingmom🙋‍♀️🎿❄🇨🇦🇦🇹🍻                            \n2   2012-09-08T02:03:51.000Z                  Emilio                            \n3   2009-07-11T14:56:49.000Z  Eugene, Or @decidealgo                            \n4   2022-03-06T01:33:36.000Z             Hi I'm Dave                            \n..                       ...                     ...                      ...   \n89  2014-09-03T13:22:29.000Z         gopal #Savesoil  https://t.co/zr2gJrCOb3   \n90  2017-09-01T10:25:33.000Z   Toasters for Warren 🗽  https://t.co/JDktTNq8P8   \n91  2017-06-01T22:55:45.000Z           Fred Langlois                            \n92  2014-03-25T17:13:19.000Z      💜 Lorraine Withers                            \n93  2020-04-17T03:59:22.000Z       CRUNCHY Donut 🌵🇺🇸                            \n\n                                          description                   id  \\\n0   If you see something you agree with, feel free...  1181952375399092225   \n1   Love my family, skiing & Austria. Maybe not al...  1345215509705478146   \n2   I really just tweet shit\\n@ewmelendezart #Mama...            809985698   \n3                                      Jesus is Lord!             55847265   \n4   FosterToAdopt. Climate. Solar. Evs. Nuclear. J...  1500283381036191746   \n..                                                ...                  ...   \n89  If you really love someone, if you really love...           2788001185   \n90              Lover of all things Elizabeth Warren.   903564476779298816   \n91  Science. Climate justice. Fluffy dogs. Organiz...   870413586035855360   \n92        Living on Biripi land. Opinions are my own.           2411313362   \n93  👉🏻 Never let fear decide your future...\\nDaily...  1250997211384541184   \n\n                                       public_metrics  verified  \\\n0   {'followers_count': 330, 'following_count': 63...     False   \n1   {'followers_count': 274, 'following_count': 71...     False   \n2   {'followers_count': 588, 'following_count': 55...     False   \n3   {'followers_count': 1756, 'following_count': 2...     False   \n4   {'followers_count': 32, 'following_count': 261...     False   \n..                                                ...       ...   \n89  {'followers_count': 26, 'following_count': 201...     False   \n90  {'followers_count': 2452, 'following_count': 4...     False   \n91  {'followers_count': 3389, 'following_count': 2...     False   \n92  {'followers_count': 2044, 'following_count': 9...     False   \n93  {'followers_count': 3677, 'following_count': 3...     False   \n\n        pinned_tweet_id                                           entities  \n0                   NaN                                                NaN  \n1                   NaN                                                NaN  \n2   1443313198787145739  {'description': {'hashtags': [{'start': 40, 'e...  \n3                   NaN                                                NaN  \n4   1508313011177414656  {'description': {'hashtags': [{'start': 94, 'e...  \n..                  ...                                                ...  \n89  1530816939572236289  {'url': {'urls': [{'start': 0, 'end': 23, 'url...  \n90  1228187584133648384  {'url': {'urls': [{'start': 0, 'end': 23, 'url...  \n91  1164601178820399104  {'description': {'mentions': [{'start': 55, 'e...  \n92  1083855148915408896                                                NaN  \n93                  NaN                                                NaN  \n\n[94 rows x 13 columns]",
      "text/html": "<div>\n<style scoped>\n    .dataframe tbody tr th:only-of-type {\n        vertical-align: middle;\n    }\n\n    .dataframe tbody tr th {\n        vertical-align: top;\n    }\n\n    .dataframe thead th {\n        text-align: right;\n    }\n</style>\n<table border=\"1\" class=\"dataframe\">\n  <thead>\n    <tr style=\"text-align: right;\">\n      <th></th>\n      <th>location</th>\n      <th>username</th>\n      <th>profile_image_url</th>\n      <th>protected</th>\n      <th>created_at</th>\n      <th>name</th>\n      <th>url</th>\n      <th>description</th>\n      <th>id</th>\n      <th>public_metrics</th>\n      <th>verified</th>\n      <th>pinned_tweet_id</th>\n      <th>entities</th>\n    </tr>\n  </thead>\n  <tbody>\n    <tr>\n      <th>0</th>\n      <td>Texas, USA</td>\n      <td>chilberg11</td>\n      <td>https://pbs.twimg.com/profile_images/149796300...</td>\n      <td>False</td>\n      <td>2019-10-09T15:20:59.000Z</td>\n      <td>Carl Hilberg</td>\n      <td></td>\n      <td>If you see something you agree with, feel free...</td>\n      <td>1181952375399092225</td>\n      <td>{'followers_count': 330, 'following_count': 63...</td>\n      <td>False</td>\n      <td>NaN</td>\n      <td>NaN</td>\n    </tr>\n    <tr>\n      <th>1</th>\n      <td>NaN</td>\n      <td>Skiingmom2</td>\n      <td>https://pbs.twimg.com/profile_images/154118563...</td>\n      <td>False</td>\n      <td>2021-01-02T03:49:18.000Z</td>\n      <td>Skiingmom🙋‍♀️🎿❄🇨🇦🇦🇹🍻</td>\n      <td></td>\n      <td>Love my family, skiing &amp; Austria. Maybe not al...</td>\n      <td>1345215509705478146</td>\n      <td>{'followers_count': 274, 'following_count': 71...</td>\n      <td>False</td>\n      <td>NaN</td>\n      <td>NaN</td>\n    </tr>\n    <tr>\n      <th>2</th>\n      <td>the depths of hell</td>\n      <td>GenericName76</td>\n      <td>https://pbs.twimg.com/profile_images/152262270...</td>\n      <td>False</td>\n      <td>2012-09-08T02:03:51.000Z</td>\n      <td>Emilio</td>\n      <td></td>\n      <td>I really just tweet shit\\n@ewmelendezart #Mama...</td>\n      <td>809985698</td>\n      <td>{'followers_count': 588, 'following_count': 55...</td>\n      <td>False</td>\n      <td>1443313198787145739</td>\n      <td>{'description': {'hashtags': [{'start': 40, 'e...</td>\n    </tr>\n    <tr>\n      <th>3</th>\n      <td>NaN</td>\n      <td>decidealgo</td>\n      <td>https://pbs.twimg.com/profile_images/129322420...</td>\n      <td>False</td>\n      <td>2009-07-11T14:56:49.000Z</td>\n      <td>Eugene, Or @decidealgo</td>\n      <td></td>\n      <td>Jesus is Lord!</td>\n      <td>55847265</td>\n      <td>{'followers_count': 1756, 'following_count': 2...</td>\n      <td>False</td>\n      <td>NaN</td>\n      <td>NaN</td>\n    </tr>\n    <tr>\n      <th>4</th>\n      <td>NaN</td>\n      <td>brushb0t2</td>\n      <td>https://pbs.twimg.com/profile_images/150031978...</td>\n      <td>False</td>\n      <td>2022-03-06T01:33:36.000Z</td>\n      <td>Hi I'm Dave</td>\n      <td></td>\n      <td>FosterToAdopt. Climate. Solar. Evs. Nuclear. J...</td>\n      <td>1500283381036191746</td>\n      <td>{'followers_count': 32, 'following_count': 261...</td>\n      <td>False</td>\n      <td>1508313011177414656</td>\n      <td>{'description': {'hashtags': [{'start': 94, 'e...</td>\n    </tr>\n    <tr>\n      <th>...</th>\n      <td>...</td>\n      <td>...</td>\n      <td>...</td>\n      <td>...</td>\n      <td>...</td>\n      <td>...</td>\n      <td>...</td>\n      <td>...</td>\n      <td>...</td>\n      <td>...</td>\n      <td>...</td>\n      <td>...</td>\n      <td>...</td>\n    </tr>\n    <tr>\n      <th>89</th>\n      <td>NaN</td>\n      <td>gopalmarella97</td>\n      <td>https://pbs.twimg.com/profile_images/154346816...</td>\n      <td>False</td>\n      <td>2014-09-03T13:22:29.000Z</td>\n      <td>gopal #Savesoil</td>\n      <td>https://t.co/zr2gJrCOb3</td>\n      <td>If you really love someone, if you really love...</td>\n      <td>2788001185</td>\n      <td>{'followers_count': 26, 'following_count': 201...</td>\n      <td>False</td>\n      <td>1530816939572236289</td>\n      <td>{'url': {'urls': [{'start': 0, 'end': 23, 'url...</td>\n    </tr>\n    <tr>\n      <th>90</th>\n      <td>NaN</td>\n      <td>RachelPopp7</td>\n      <td>https://pbs.twimg.com/profile_images/119047451...</td>\n      <td>False</td>\n      <td>2017-09-01T10:25:33.000Z</td>\n      <td>Toasters for Warren 🗽</td>\n      <td>https://t.co/JDktTNq8P8</td>\n      <td>Lover of all things Elizabeth Warren.</td>\n      <td>903564476779298816</td>\n      <td>{'followers_count': 2452, 'following_count': 4...</td>\n      <td>False</td>\n      <td>1228187584133648384</td>\n      <td>{'url': {'urls': [{'start': 0, 'end': 23, 'url...</td>\n    </tr>\n    <tr>\n      <th>91</th>\n      <td>Canada</td>\n      <td>Fred_Langlois_</td>\n      <td>https://pbs.twimg.com/profile_images/126567206...</td>\n      <td>False</td>\n      <td>2017-06-01T22:55:45.000Z</td>\n      <td>Fred Langlois</td>\n      <td></td>\n      <td>Science. Climate justice. Fluffy dogs. Organiz...</td>\n      <td>870413586035855360</td>\n      <td>{'followers_count': 3389, 'following_count': 2...</td>\n      <td>False</td>\n      <td>1164601178820399104</td>\n      <td>{'description': {'mentions': [{'start': 55, 'e...</td>\n    </tr>\n    <tr>\n      <th>92</th>\n      <td>Port Macquarie</td>\n      <td>lorraindeer</td>\n      <td>https://pbs.twimg.com/profile_images/561026440...</td>\n      <td>False</td>\n      <td>2014-03-25T17:13:19.000Z</td>\n      <td>💜 Lorraine Withers</td>\n      <td></td>\n      <td>Living on Biripi land. Opinions are my own.</td>\n      <td>2411313362</td>\n      <td>{'followers_count': 2044, 'following_count': 9...</td>\n      <td>False</td>\n      <td>1083855148915408896</td>\n      <td>NaN</td>\n    </tr>\n    <tr>\n      <th>93</th>\n      <td>NaN</td>\n      <td>CrunchyDoughnu1</td>\n      <td>https://pbs.twimg.com/profile_images/147730825...</td>\n      <td>False</td>\n      <td>2020-04-17T03:59:22.000Z</td>\n      <td>CRUNCHY Donut 🌵🇺🇸</td>\n      <td></td>\n      <td>👉🏻 Never let fear decide your future...\\nDaily...</td>\n      <td>1250997211384541184</td>\n      <td>{'followers_count': 3677, 'following_count': 3...</td>\n      <td>False</td>\n      <td>NaN</td>\n      <td>NaN</td>\n    </tr>\n  </tbody>\n</table>\n<p>94 rows × 13 columns</p>\n</div>"
     },
     "execution_count": 248,
     "metadata": {},
     "output_type": "execute_result"
    }
   ],
   "source": [
    "user_df"
   ]
  },
  {
   "cell_type": "markdown",
   "metadata": {
    "pycharm": {
     "name": "#%% md\n"
    }
   },
   "source": [
    "# Q5(1 point) List datatypes of columns using user_df. Describe which attributes doesn't have correct data types. What should be correct datatype for each case?"
   ]
  },
  {
   "cell_type": "code",
   "execution_count": 249,
   "metadata": {
    "pycharm": {
     "name": "#%%\n"
    }
   },
   "outputs": [
    {
     "data": {
      "text/plain": "location             object\nusername             object\nprofile_image_url    object\nprotected              bool\ncreated_at           object\nname                 object\nurl                  object\ndescription          object\nid                   object\npublic_metrics       object\nverified               bool\npinned_tweet_id      object\nentities             object\ndtype: object"
     },
     "execution_count": 249,
     "metadata": {},
     "output_type": "execute_result"
    }
   ],
   "source": [
    "# write code here for datatype listing\n",
    "user_df.dtypes\n"
   ]
  },
  {
   "cell_type": "markdown",
   "metadata": {
    "pycharm": {
     "name": "#%% md\n"
    }
   },
   "source": [
    "# write columns with wrong datatype and mention correct data type too.\n",
    "\n",
    "profile_image_url should be string\n",
    "entities should be dict\n",
    "name should be string\n",
    "location should be string\n",
    "id should be int64\n",
    "public_metrics should be dict\n",
    "url should be string\n",
    "username should be string\n",
    "created_at should be datetime\n",
    "description should be string\n",
    "pinned_tweet_id should be int64"
   ]
  },
  {
   "cell_type": "markdown",
   "metadata": {
    "pycharm": {
     "name": "#%% md\n"
    }
   },
   "source": [
    "# Q6 (1 point) Complete following retweeted_status_generator. Generator should yield dictionary of retweeted_status value from each tweet. If a tweet doesn't have this key return empty dictionary.\n",
    "\n",
    "- As per the twitter API the user information is in the 'users' object within the 'includes' object of the response."
   ]
  },
  {
   "cell_type": "code",
   "execution_count": 250,
   "metadata": {
    "pycharm": {
     "name": "#%%\n"
    }
   },
   "outputs": [
    {
     "data": {
      "text/plain": "                 source                                           entities  \\\n0       Twitter Web App  {'annotations': [{'start': 39, 'end': 52, 'pro...   \n1   Twitter for Android  {'mentions': [{'start': 3, 'end': 19, 'usernam...   \n2   Twitter for Android  {'mentions': [{'start': 3, 'end': 14, 'usernam...   \n3       Twitter Web App  {'mentions': [{'start': 0, 'end': 16, 'usernam...   \n4       Twitter Web App  {'mentions': [{'start': 3, 'end': 17, 'usernam...   \n..                  ...                                                ...   \n82  Twitter for Android  {'mentions': [{'start': 3, 'end': 14, 'usernam...   \n83   Twitter for iPhone  {'mentions': [{'start': 3, 'end': 12, 'usernam...   \n84  Twitter for Android  {'mentions': [{'start': 3, 'end': 15, 'usernam...   \n85   Twitter for iPhone  {'mentions': [{'start': 3, 'end': 16, 'usernam...   \n86   Twitter for iPhone  {'mentions': [{'start': 3, 'end': 18, 'usernam...   \n\n                     id                                               text  \\\n0   1549572208539959301  There are 139 elected officials in the 117th C...   \n1   1549572206233096194  RT @Kit_Yates_Maths: But did thy die of climat...   \n2   1549572200868593664  RT @bananafitz: International news is like, “m...   \n3   1549572198783787009  @Justsay43328336 @PointlessSword @realRussellD...   \n4   1549572197005631496  RT @lavern_spicer: If CLIMATE CHANGE is real, ...   \n..                  ...                                                ...   \n82  1549571960744837120  RT @cpsavesoil: Burj Khalifa Lights Up In #Sav...   \n83  1549571951504625669  RT @thetimes: Prince Harry's keynote speech at...   \n84  1549571950674051078  RT @ClaireRWong: Guys, I think I’ve solved it....   \n85  1549571946727489536  RT @BronwynHill1: Any former member of the gov...   \n86  1549571943661129728  RT @MattH_4America: \"Climate Change\" is a hoax...   \n\n                  created_at reply_settings lang  \\\n0   2022-07-20T01:49:38.000Z       everyone   en   \n1   2022-07-20T01:49:38.000Z       everyone   en   \n2   2022-07-20T01:49:37.000Z       everyone   en   \n3   2022-07-20T01:49:36.000Z       everyone   en   \n4   2022-07-20T01:49:36.000Z       everyone   en   \n..                       ...            ...  ...   \n82  2022-07-20T01:48:39.000Z       everyone   en   \n83  2022-07-20T01:48:37.000Z       everyone   en   \n84  2022-07-20T01:48:37.000Z       everyone   en   \n85  2022-07-20T01:48:36.000Z       everyone   en   \n86  2022-07-20T01:48:35.000Z       everyone   en   \n\n                                       public_metrics      conversation_id  \\\n0   {'retweet_count': 0, 'reply_count': 0, 'like_c...  1549572208539959301   \n1   {'retweet_count': 760, 'reply_count': 0, 'like...  1549572206233096194   \n2   {'retweet_count': 2334, 'reply_count': 0, 'lik...  1549572200868593664   \n3   {'retweet_count': 0, 'reply_count': 0, 'like_c...  1549507568032178176   \n4   {'retweet_count': 426, 'reply_count': 0, 'like...  1549572197005631496   \n..                                                ...                  ...   \n82  {'retweet_count': 306, 'reply_count': 0, 'like...  1549571960744837120   \n83  {'retweet_count': 788, 'reply_count': 0, 'like...  1549571951504625669   \n84  {'retweet_count': 12253, 'reply_count': 0, 'li...  1549571950674051078   \n85  {'retweet_count': 30, 'reply_count': 0, 'like_...  1549571946727489536   \n86  {'retweet_count': 148, 'reply_count': 0, 'like...  1549571943661129728   \n\n                user_id  referenced_tweets_ids  retweet_count  \\\n0   1181952375399092225  [1549507048177532930]              0   \n1   1345215509705478146  [1549442694560337920]            760   \n2             809985698  [1549391709410365443]           2334   \n3   1500283381036191746  [1549562609262895109]              0   \n4   1522344926100471811  [1549531680465162244]            426   \n..                  ...                    ...            ...   \n82           2788001185  [1549283706388750337]            306   \n83   903564476779298816  [1549284378852958208]            788   \n84   870413586035855360  [1548767909039816709]          12253   \n85           2411313362  [1549561676865089536]             30   \n86  1250997211384541184  [1549544142048468998]            148   \n\n    in_reply_to_user_id  \n0                   NaN  \n1                   NaN  \n2                   NaN  \n3   1319039866462752770  \n4                   NaN  \n..                  ...  \n82                  NaN  \n83                  NaN  \n84                  NaN  \n85                  NaN  \n86                  NaN  \n\n[87 rows x 13 columns]",
      "text/html": "<div>\n<style scoped>\n    .dataframe tbody tr th:only-of-type {\n        vertical-align: middle;\n    }\n\n    .dataframe tbody tr th {\n        vertical-align: top;\n    }\n\n    .dataframe thead th {\n        text-align: right;\n    }\n</style>\n<table border=\"1\" class=\"dataframe\">\n  <thead>\n    <tr style=\"text-align: right;\">\n      <th></th>\n      <th>source</th>\n      <th>entities</th>\n      <th>id</th>\n      <th>text</th>\n      <th>created_at</th>\n      <th>reply_settings</th>\n      <th>lang</th>\n      <th>public_metrics</th>\n      <th>conversation_id</th>\n      <th>user_id</th>\n      <th>referenced_tweets_ids</th>\n      <th>retweet_count</th>\n      <th>in_reply_to_user_id</th>\n    </tr>\n  </thead>\n  <tbody>\n    <tr>\n      <th>0</th>\n      <td>Twitter Web App</td>\n      <td>{'annotations': [{'start': 39, 'end': 52, 'pro...</td>\n      <td>1549572208539959301</td>\n      <td>There are 139 elected officials in the 117th C...</td>\n      <td>2022-07-20T01:49:38.000Z</td>\n      <td>everyone</td>\n      <td>en</td>\n      <td>{'retweet_count': 0, 'reply_count': 0, 'like_c...</td>\n      <td>1549572208539959301</td>\n      <td>1181952375399092225</td>\n      <td>[1549507048177532930]</td>\n      <td>0</td>\n      <td>NaN</td>\n    </tr>\n    <tr>\n      <th>1</th>\n      <td>Twitter for Android</td>\n      <td>{'mentions': [{'start': 3, 'end': 19, 'usernam...</td>\n      <td>1549572206233096194</td>\n      <td>RT @Kit_Yates_Maths: But did thy die of climat...</td>\n      <td>2022-07-20T01:49:38.000Z</td>\n      <td>everyone</td>\n      <td>en</td>\n      <td>{'retweet_count': 760, 'reply_count': 0, 'like...</td>\n      <td>1549572206233096194</td>\n      <td>1345215509705478146</td>\n      <td>[1549442694560337920]</td>\n      <td>760</td>\n      <td>NaN</td>\n    </tr>\n    <tr>\n      <th>2</th>\n      <td>Twitter for Android</td>\n      <td>{'mentions': [{'start': 3, 'end': 14, 'usernam...</td>\n      <td>1549572200868593664</td>\n      <td>RT @bananafitz: International news is like, “m...</td>\n      <td>2022-07-20T01:49:37.000Z</td>\n      <td>everyone</td>\n      <td>en</td>\n      <td>{'retweet_count': 2334, 'reply_count': 0, 'lik...</td>\n      <td>1549572200868593664</td>\n      <td>809985698</td>\n      <td>[1549391709410365443]</td>\n      <td>2334</td>\n      <td>NaN</td>\n    </tr>\n    <tr>\n      <th>3</th>\n      <td>Twitter Web App</td>\n      <td>{'mentions': [{'start': 0, 'end': 16, 'usernam...</td>\n      <td>1549572198783787009</td>\n      <td>@Justsay43328336 @PointlessSword @realRussellD...</td>\n      <td>2022-07-20T01:49:36.000Z</td>\n      <td>everyone</td>\n      <td>en</td>\n      <td>{'retweet_count': 0, 'reply_count': 0, 'like_c...</td>\n      <td>1549507568032178176</td>\n      <td>1500283381036191746</td>\n      <td>[1549562609262895109]</td>\n      <td>0</td>\n      <td>1319039866462752770</td>\n    </tr>\n    <tr>\n      <th>4</th>\n      <td>Twitter Web App</td>\n      <td>{'mentions': [{'start': 3, 'end': 17, 'usernam...</td>\n      <td>1549572197005631496</td>\n      <td>RT @lavern_spicer: If CLIMATE CHANGE is real, ...</td>\n      <td>2022-07-20T01:49:36.000Z</td>\n      <td>everyone</td>\n      <td>en</td>\n      <td>{'retweet_count': 426, 'reply_count': 0, 'like...</td>\n      <td>1549572197005631496</td>\n      <td>1522344926100471811</td>\n      <td>[1549531680465162244]</td>\n      <td>426</td>\n      <td>NaN</td>\n    </tr>\n    <tr>\n      <th>...</th>\n      <td>...</td>\n      <td>...</td>\n      <td>...</td>\n      <td>...</td>\n      <td>...</td>\n      <td>...</td>\n      <td>...</td>\n      <td>...</td>\n      <td>...</td>\n      <td>...</td>\n      <td>...</td>\n      <td>...</td>\n      <td>...</td>\n    </tr>\n    <tr>\n      <th>82</th>\n      <td>Twitter for Android</td>\n      <td>{'mentions': [{'start': 3, 'end': 14, 'usernam...</td>\n      <td>1549571960744837120</td>\n      <td>RT @cpsavesoil: Burj Khalifa Lights Up In #Sav...</td>\n      <td>2022-07-20T01:48:39.000Z</td>\n      <td>everyone</td>\n      <td>en</td>\n      <td>{'retweet_count': 306, 'reply_count': 0, 'like...</td>\n      <td>1549571960744837120</td>\n      <td>2788001185</td>\n      <td>[1549283706388750337]</td>\n      <td>306</td>\n      <td>NaN</td>\n    </tr>\n    <tr>\n      <th>83</th>\n      <td>Twitter for iPhone</td>\n      <td>{'mentions': [{'start': 3, 'end': 12, 'usernam...</td>\n      <td>1549571951504625669</td>\n      <td>RT @thetimes: Prince Harry's keynote speech at...</td>\n      <td>2022-07-20T01:48:37.000Z</td>\n      <td>everyone</td>\n      <td>en</td>\n      <td>{'retweet_count': 788, 'reply_count': 0, 'like...</td>\n      <td>1549571951504625669</td>\n      <td>903564476779298816</td>\n      <td>[1549284378852958208]</td>\n      <td>788</td>\n      <td>NaN</td>\n    </tr>\n    <tr>\n      <th>84</th>\n      <td>Twitter for Android</td>\n      <td>{'mentions': [{'start': 3, 'end': 15, 'usernam...</td>\n      <td>1549571950674051078</td>\n      <td>RT @ClaireRWong: Guys, I think I’ve solved it....</td>\n      <td>2022-07-20T01:48:37.000Z</td>\n      <td>everyone</td>\n      <td>en</td>\n      <td>{'retweet_count': 12253, 'reply_count': 0, 'li...</td>\n      <td>1549571950674051078</td>\n      <td>870413586035855360</td>\n      <td>[1548767909039816709]</td>\n      <td>12253</td>\n      <td>NaN</td>\n    </tr>\n    <tr>\n      <th>85</th>\n      <td>Twitter for iPhone</td>\n      <td>{'mentions': [{'start': 3, 'end': 16, 'usernam...</td>\n      <td>1549571946727489536</td>\n      <td>RT @BronwynHill1: Any former member of the gov...</td>\n      <td>2022-07-20T01:48:36.000Z</td>\n      <td>everyone</td>\n      <td>en</td>\n      <td>{'retweet_count': 30, 'reply_count': 0, 'like_...</td>\n      <td>1549571946727489536</td>\n      <td>2411313362</td>\n      <td>[1549561676865089536]</td>\n      <td>30</td>\n      <td>NaN</td>\n    </tr>\n    <tr>\n      <th>86</th>\n      <td>Twitter for iPhone</td>\n      <td>{'mentions': [{'start': 3, 'end': 18, 'usernam...</td>\n      <td>1549571943661129728</td>\n      <td>RT @MattH_4America: \"Climate Change\" is a hoax...</td>\n      <td>2022-07-20T01:48:35.000Z</td>\n      <td>everyone</td>\n      <td>en</td>\n      <td>{'retweet_count': 148, 'reply_count': 0, 'like...</td>\n      <td>1549571943661129728</td>\n      <td>1250997211384541184</td>\n      <td>[1549544142048468998]</td>\n      <td>148</td>\n      <td>NaN</td>\n    </tr>\n  </tbody>\n</table>\n<p>87 rows × 13 columns</p>\n</div>"
     },
     "execution_count": 250,
     "metadata": {},
     "output_type": "execute_result"
    }
   ],
   "source": [
    "retweeted_status_df = climate_feed_df[['id', 'retweet_count']]\n",
    "climate_feed_df"
   ]
  },
  {
   "cell_type": "code",
   "execution_count": 251,
   "metadata": {
    "pycharm": {
     "name": "#%%\n"
    }
   },
   "outputs": [
    {
     "data": {
      "text/plain": "                     id  retweet_count\n0   1549572208539959301              0\n1   1549572206233096194            760\n2   1549572200868593664           2334\n3   1549572198783787009              0\n4   1549572197005631496            426\n..                  ...            ...\n82  1549571960744837120            306\n83  1549571951504625669            788\n84  1549571950674051078          12253\n85  1549571946727489536             30\n86  1549571943661129728            148\n\n[87 rows x 2 columns]",
      "text/html": "<div>\n<style scoped>\n    .dataframe tbody tr th:only-of-type {\n        vertical-align: middle;\n    }\n\n    .dataframe tbody tr th {\n        vertical-align: top;\n    }\n\n    .dataframe thead th {\n        text-align: right;\n    }\n</style>\n<table border=\"1\" class=\"dataframe\">\n  <thead>\n    <tr style=\"text-align: right;\">\n      <th></th>\n      <th>id</th>\n      <th>retweet_count</th>\n    </tr>\n  </thead>\n  <tbody>\n    <tr>\n      <th>0</th>\n      <td>1549572208539959301</td>\n      <td>0</td>\n    </tr>\n    <tr>\n      <th>1</th>\n      <td>1549572206233096194</td>\n      <td>760</td>\n    </tr>\n    <tr>\n      <th>2</th>\n      <td>1549572200868593664</td>\n      <td>2334</td>\n    </tr>\n    <tr>\n      <th>3</th>\n      <td>1549572198783787009</td>\n      <td>0</td>\n    </tr>\n    <tr>\n      <th>4</th>\n      <td>1549572197005631496</td>\n      <td>426</td>\n    </tr>\n    <tr>\n      <th>...</th>\n      <td>...</td>\n      <td>...</td>\n    </tr>\n    <tr>\n      <th>82</th>\n      <td>1549571960744837120</td>\n      <td>306</td>\n    </tr>\n    <tr>\n      <th>83</th>\n      <td>1549571951504625669</td>\n      <td>788</td>\n    </tr>\n    <tr>\n      <th>84</th>\n      <td>1549571950674051078</td>\n      <td>12253</td>\n    </tr>\n    <tr>\n      <th>85</th>\n      <td>1549571946727489536</td>\n      <td>30</td>\n    </tr>\n    <tr>\n      <th>86</th>\n      <td>1549571943661129728</td>\n      <td>148</td>\n    </tr>\n  </tbody>\n</table>\n<p>87 rows × 2 columns</p>\n</div>"
     },
     "execution_count": 251,
     "metadata": {},
     "output_type": "execute_result"
    }
   ],
   "source": [
    "retweeted_status_df"
   ]
  },
  {
   "cell_type": "markdown",
   "metadata": {
    "pycharm": {
     "name": "#%% md\n"
    }
   },
   "source": [
    "# Q7 (1 point) Write code to find number of rows in retweeted_status_df that were not retweeted. print number of such rows."
   ]
  },
  {
   "cell_type": "code",
   "execution_count": 252,
   "metadata": {
    "pycharm": {
     "name": "#%%\n"
    }
   },
   "outputs": [
    {
     "data": {
      "text/plain": "20"
     },
     "execution_count": 252,
     "metadata": {},
     "output_type": "execute_result"
    }
   ],
   "source": [
    "retweeted_status_df[ retweeted_status_df['retweet_count'] == 0]['id'].count()"
   ]
  }
 ],
 "metadata": {
  "kernelspec": {
   "display_name": "Python 3 (ipykernel)",
   "language": "python",
   "name": "python3"
  },
  "language_info": {
   "codemirror_mode": {
    "name": "ipython",
    "version": 3
   },
   "file_extension": ".py",
   "mimetype": "text/x-python",
   "name": "python",
   "nbconvert_exporter": "python",
   "pygments_lexer": "ipython3",
   "version": "3.10.4"
  },
  "toc": {
   "base_numbering": 1,
   "nav_menu": {},
   "number_sections": false,
   "sideBar": true,
   "skip_h1_title": false,
   "title_cell": "Table of Contents",
   "title_sidebar": "Contents",
   "toc_cell": false,
   "toc_position": {},
   "toc_section_display": true,
   "toc_window_display": false
  },
  "varInspector": {
   "cols": {
    "lenName": 16,
    "lenType": 16,
    "lenVar": 40
   },
   "kernels_config": {
    "python": {
     "delete_cmd_postfix": "",
     "delete_cmd_prefix": "del ",
     "library": "var_list.py",
     "varRefreshCmd": "print(var_dic_list())"
    },
    "r": {
     "delete_cmd_postfix": ") ",
     "delete_cmd_prefix": "rm(",
     "library": "var_list.r",
     "varRefreshCmd": "cat(var_dic_list()) "
    }
   },
   "types_to_exclude": [
    "module",
    "function",
    "builtin_function_or_method",
    "instance",
    "_Feature"
   ],
   "window_display": false
  }
 },
 "nbformat": 4,
 "nbformat_minor": 2
}
